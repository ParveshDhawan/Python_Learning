{
 "cells": [
  {
   "cell_type": "markdown",
   "id": "a96ebf6e-8164-46f5-a7ee-e44b8d5dc290",
   "metadata": {},
   "source": [
    "### Python Keywords\n",
    "Keywords are the reserved words in python.\n",
    "\r\n",
    "We can't use a keyword as variable name, function name or any other identif\n",
    "\r\n",
    "\r\n",
    "Keywords are case sentive"
   ]
  },
  {
   "cell_type": "code",
   "execution_count": 1,
   "id": "a9bd9d7f-ac42-4958-8f3d-54de8c9756d1",
   "metadata": {},
   "outputs": [
    {
     "name": "stdout",
     "output_type": "stream",
     "text": [
      "['False', 'None', 'True', 'and', 'as', 'assert', 'async', 'await', 'break', 'class', 'continue', 'def', 'del', 'elif', 'else', 'except', 'finally', 'for', 'from', 'global', 'if', 'import', 'in', 'is', 'lambda', 'nonlocal', 'not', 'or', 'pass', 'raise', 'return', 'try', 'while', 'with', 'yield']\n",
      "\n",
      "Length of Keyword list : 35\n"
     ]
    }
   ],
   "source": [
    "import keyword\n",
    "print(keyword.kwlist)\n",
    "\n",
    "print(f'\\nLength of Keyword list : {len(keyword.kwlist)}')"
   ]
  },
  {
   "cell_type": "markdown",
   "id": "18af7844-223c-44bc-8b1a-198e06399a33",
   "metadata": {},
   "source": [
    "### Identifier\n",
    "Identifier is the name given to entities like class, functions, variables etc. in Python. It helps differentiating one entity from another.\n",
    "Rules for Writing Identifiers:\n",
    "- Identifiers can be a combination of letters in lowercase (a to z) or uppercase (A to Z) or digits (0 to 9) or an underscore (_).\n",
    "- An identifier cannot start with a digit. 1variable is invalid, but variable1 is perfectly fine.\n",
    "- Keywords cannot be used as identifiers.\n",
    "- We cannot use special symbols like !, @, #, $, % etc. in our identifier."
   ]
  },
  {
   "cell_type": "code",
   "execution_count": 2,
   "id": "b63bf16f-ea42-4456-bd97-e7f5766127d9",
   "metadata": {},
   "outputs": [
    {
     "name": "stdout",
     "output_type": "stream",
     "text": [
      "variable abc has value of 12 stored at 140705134619904\n",
      "variable x has value of 12 stored at 140705134619904\n"
     ]
    }
   ],
   "source": [
    "abc = 12\n",
    "print(f'variable abc has value of {abc} stored at {id(abc)}')\n",
    "\n",
    "x = 12\n",
    "print(f'variable x has value of {x} stored at {id(x)}')"
   ]
  },
  {
   "cell_type": "code",
   "execution_count": 3,
   "id": "21b288f3-8a6d-4d16-9a78-fdfc68d28a77",
   "metadata": {},
   "outputs": [
    {
     "name": "stdout",
     "output_type": "stream",
     "text": [
      "variable a has value of 12 stored at 140705134619904\n",
      "variable a has value of 12 stored at 140705134619904\n",
      "variable b has value of 12 stored at 140705134619904\n",
      "variable a has value of 13 stored at 140705134619936\n",
      "variable b has value of 12 stored at 140705134619904\n"
     ]
    }
   ],
   "source": [
    "a = 12\n",
    "print(f'variable a has value of {a} stored at {id(a)}')\n",
    "b = a\n",
    "print(f'variable a has value of {a} stored at {id(a)}')\n",
    "print(f'variable b has value of {b} stored at {id(b)}')\n",
    "a = 13\n",
    "print(f'variable a has value of {a} stored at {id(a)}')\n",
    "print(f'variable b has value of {b} stored at {id(b)}')\n"
   ]
  },
  {
   "cell_type": "markdown",
   "id": "7eeae9e2-a245-497c-8eab-af834e1d458d",
   "metadata": {},
   "source": [
    "### Numbers"
   ]
  },
  {
   "cell_type": "code",
   "execution_count": 4,
   "id": "dfed63c4-90d2-4358-8b37-7eada35b8b2e",
   "metadata": {},
   "outputs": [
    {
     "name": "stdout",
     "output_type": "stream",
     "text": [
      "5  is of type <class 'int'>\n",
      "\n",
      "2.5  is of type <class 'float'>\n",
      "\n",
      "(1+2j)  is complex number?\n",
      "True\n"
     ]
    }
   ],
   "source": [
    "a = 5                               #data type is implicitly set to integer\n",
    "print(a, \" is of type\", type(a))\n",
    "print()\n",
    "a = 2.5                            #data type is changed to float\n",
    "print(a, \" is of type\", type(a))\n",
    "print()\n",
    "a = 1 + 2j                          #data type is changed to complex number\n",
    "print(a, \" is complex number?\") \n",
    "print(isinstance(1+2j, complex))"
   ]
  },
  {
   "cell_type": "markdown",
   "id": "a01e3d5e-d118-4dea-b74f-32183a4ed80b",
   "metadata": {},
   "source": [
    "### Strings\n",
    "A string in Python consists of a series or sequence of characters - letters, numbers, and special characters."
   ]
  },
  {
   "cell_type": "code",
   "execution_count": 5,
   "id": "ecb268a9-84fe-4127-ac42-f28bd33d57b6",
   "metadata": {},
   "outputs": [
    {
     "name": "stdout",
     "output_type": "stream",
     "text": [
      "This is Online AI course\n",
      "T\n"
     ]
    },
    {
     "data": {
      "text/plain": [
       "'is Online AI course'"
      ]
     },
     "execution_count": 5,
     "metadata": {},
     "output_type": "execute_result"
    }
   ],
   "source": [
    "s = \"This is Online AI course\"\n",
    "print(s)\n",
    "\n",
    "print(s[0])\n",
    "#last char s[len(s)-1] or s[-1]\n",
    "\n",
    "#slicing\n",
    "s[5:]"
   ]
  },
  {
   "cell_type": "markdown",
   "id": "6355fb4f-ddea-42a7-9c26-e3bb34e5d637",
   "metadata": {},
   "source": [
    "### List\n",
    "- List is an ordered sequence of items\n",
    "- Lists are mutable, meaning, value of elements of a list can be altered."
   ]
  },
  {
   "cell_type": "code",
   "execution_count": 6,
   "id": "5729f0be-2103-4146-bfb0-a5fb636bbeb9",
   "metadata": {},
   "outputs": [
    {
     "name": "stdout",
     "output_type": "stream",
     "text": [
      "20.5\n",
      "[10, 30.7, 'Hello']\n"
     ]
    }
   ],
   "source": [
    "a = [10, 20.5, \"Hello\"]\n",
    "print(a[1])               #print 1st index element\n",
    "\n",
    "a[1] = 30.7\n",
    "print(a)"
   ]
  },
  {
   "cell_type": "markdown",
   "id": "4613007b-7470-415b-bc2c-47aeb6200e4d",
   "metadata": {},
   "source": [
    "### Tuple\n",
    "- Tuple is an ordered sequence of items same as list.The only difference is that tuples are immutable. Tuples once created cannot be modified."
   ]
  },
  {
   "cell_type": "code",
   "execution_count": 7,
   "id": "dbe45dce-f494-4480-8e0c-3a041b9318ea",
   "metadata": {},
   "outputs": [
    {
     "name": "stdout",
     "output_type": "stream",
     "text": [
      "1.5\n"
     ]
    }
   ],
   "source": [
    "t = (1, 1.5, \"ML\")\n",
    "print(t[1]) #extract particular element\n",
    "\n",
    "# t[1] = 1.25"
   ]
  },
  {
   "cell_type": "markdown",
   "id": "f5dd8ff0-695a-4267-9d51-607981259a3e",
   "metadata": {},
   "source": [
    "### Set\n",
    "- Set is an unordered collection of unique items. Set is defined by values separated by comma inside braces { }. Items in a set are not ordered.\n",
    "- We can perform set operations like union, intersection on two sets. Set have unique values."
   ]
  },
  {
   "cell_type": "code",
   "execution_count": 8,
   "id": "e390752d-df67-4c86-a3ca-aead83c96ae0",
   "metadata": {},
   "outputs": [
    {
     "name": "stdout",
     "output_type": "stream",
     "text": [
      "{5, 40, 10, 20, 30} <class 'set'>\n",
      "{10, 20, 30}\n"
     ]
    }
   ],
   "source": [
    "a = {10, 30, 20, 40, 5}\n",
    "print(a, type(a))\n",
    "\n",
    "\n",
    "s = {10, 20, 20, 30, 30, 30}\n",
    "print(s)  \n",
    "\n",
    "# print(s[1]) #we can't print particular element in set because \n",
    "#             #it's unorder collections of items"
   ]
  },
  {
   "cell_type": "markdown",
   "id": "ea2bb0d4-8a17-497b-b759-a23085a07640",
   "metadata": {},
   "source": [
    "### Dictionary\n",
    "- Dictionary is an unordered collection of key-value pairs.\r\n",
    "\r\n",
    "\r\n",
    "\r\n",
    "In Python, dictionaries are defined within braces {} with each item being a pair in the form key:value. Key and value can be of any type."
   ]
  },
  {
   "cell_type": "code",
   "execution_count": 9,
   "id": "5f72adcb-7558-4d8d-99e6-c12ba3c52d38",
   "metadata": {},
   "outputs": [
    {
     "name": "stdout",
     "output_type": "stream",
     "text": [
      "apple\n"
     ]
    }
   ],
   "source": [
    "d = {'a': \"apple\", 'b': \"bat\"}\n",
    "print(d['a'])"
   ]
  },
  {
   "cell_type": "markdown",
   "id": "3be2ecff-e310-4b37-8c42-e46a6f41cb26",
   "metadata": {},
   "source": [
    "### Conversion between Datatypes"
   ]
  },
  {
   "cell_type": "code",
   "execution_count": 10,
   "id": "efd6ae39-a96a-4e8d-8199-574e4c7e6d16",
   "metadata": {},
   "outputs": [
    {
     "name": "stdout",
     "output_type": "stream",
     "text": [
      "5.0\n",
      "100\n",
      "20\n",
      "Congratulations, satish! You just wrote 100 lines of code\n",
      "We can convert one sequence to other\n",
      "<class 'list'>\n",
      "<class 'set'>\n"
     ]
    },
    {
     "data": {
      "text/plain": [
       "['H', 'e', 'l', 'l', 'o']"
      ]
     },
     "execution_count": 10,
     "metadata": {},
     "output_type": "execute_result"
    }
   ],
   "source": [
    "print(float(5))     #convert interger to float using float() method\n",
    "\n",
    "print(int(100.5))   #convert float to integer using int() method\n",
    "\n",
    "print(str(20))      #convert integer to string\n",
    "\n",
    "user = \"satish\"\n",
    "lines = 100\n",
    "\n",
    "print(\"Congratulations, \" + user + \"! You just wrote \" + str(lines) + \" lines of code\" )\n",
    "#remove str and gives error\n",
    "\n",
    "print('We can convert one sequence to other')\n",
    "a = [1, 2, 3]\n",
    "\n",
    "print(type(a))      #type of a is list \n",
    "\n",
    "s = set(a)          #convert list to set using set() method\n",
    "\n",
    "print(type(s))      #now type of s is set\n",
    "\n",
    "list(\"Hello\")       #convert String to list using list() method"
   ]
  },
  {
   "cell_type": "markdown",
   "id": "0737b316-40cc-4c7d-8d73-02863106c0d9",
   "metadata": {},
   "source": [
    "### Output / Output Format"
   ]
  },
  {
   "cell_type": "code",
   "execution_count": 11,
   "id": "752d1693-9797-4b7f-98f9-97e9c230c82a",
   "metadata": {},
   "outputs": [
    {
     "name": "stdout",
     "output_type": "stream",
     "text": [
      "The value of a is 10\n",
      "The value of a is 10 and b is 20\n",
      "The value of b is 20 and a is 10\n",
      "Hello satish, Good Morning\n",
      "The story of Bill, Manfred, and Georg\n"
     ]
    }
   ],
   "source": [
    "a = 10\n",
    "print(\"The value of a is\", a) #python 3\n",
    "# print \"The value of a is \" + str(a) # pyhton <= 2.7 \n",
    "\n",
    "a = 10; b = 20 #multiple statements in single line.\n",
    "print(\"The value of a is {} and b is {}\".format(a, b))    #default\n",
    "print(\"The value of b is {1} and a is {0}\".format(a, b)) #specify position of arguments\n",
    "\n",
    "#we can use keyword arguments to format the string\n",
    "print(\"Hello {name}, {greeting}\".format(name=\"satish\", greeting=\"Good Morning\"))\n",
    "\n",
    "#we can combine positional arguments with keyword arguments\n",
    "print('The story of {0}, {1}, and {other}'.format('Bill', 'Manfred',other='Georg'))\n"
   ]
  },
  {
   "cell_type": "markdown",
   "id": "3e0c8439-7ad3-4d3e-8860-afd985db4ee7",
   "metadata": {},
   "source": [
    "### Input"
   ]
  },
  {
   "cell_type": "code",
   "execution_count": 12,
   "id": "4cf2259c-3bb0-4ebc-8065-8bcaa68d56aa",
   "metadata": {},
   "outputs": [
    {
     "name": "stdin",
     "output_type": "stream",
     "text": [
      "Enter a number:  3\n"
     ]
    },
    {
     "name": "stdout",
     "output_type": "stream",
     "text": [
      "3\n"
     ]
    }
   ],
   "source": [
    "num = input(\"Enter a number: \")\n",
    "print(num)"
   ]
  },
  {
   "cell_type": "markdown",
   "id": "b1629b07-8b71-44ae-9d51-af1141fc489c",
   "metadata": {},
   "source": [
    "### Operators\n",
    "- Operators are special symbols in Python that carry out arithmetic or logical computation. The value that the operator operates on is called the operand. operators operators"
   ]
  },
  {
   "cell_type": "markdown",
   "id": "15efad84-9eff-4fbc-8272-3017ebd69800",
   "metadata": {},
   "source": [
    "- ##### Arithmetic operators :  + , -, *, /, %, //, **\n",
    "- ##### Comparison (Relational) operators :  >, <, ==, !=, >=, <=\n",
    "- ##### Logical (Boolean) operators :  and, or, not\n",
    "- ##### Bitwise operators :  &,  |,  ~,  ^,  >>,  <<\n",
    "\n",
    "- ##### Assignment operators :   =,  +=,  -=,  *=,  /=,  %=,  //=,  **=, &=,  |=,  ^=,  >>=,  <<="
   ]
  },
  {
   "cell_type": "markdown",
   "id": "29c2307b-2927-4bfa-9421-b0e38b33e9ea",
   "metadata": {},
   "source": [
    "- ##### Special operators : <b>Identity Operators</b> : is and is not are the identity operators\n",
    "They are used to check if two values (or variables) are located on the same part of the memory."
   ]
  },
  {
   "cell_type": "code",
   "execution_count": 13,
   "id": "6d855955-87e4-4790-869d-36d1b7707a1a",
   "metadata": {},
   "outputs": [
    {
     "name": "stdout",
     "output_type": "stream",
     "text": [
      "True\n",
      "False\n",
      "False\n"
     ]
    }
   ],
   "source": [
    "a = 5\n",
    "b = 5\n",
    "print(a is b)    #5 is object created once both a and b points to same object\n",
    "\n",
    "l1 = [1, 2, 3]\n",
    "l2 = [1, 2, 3]\n",
    "print(l1 is l2)\n",
    "\n",
    "#check is not\n",
    "s1 = \"Satish\"\n",
    "s2 = \"Satish\"\n",
    "print(s1 is not s2)"
   ]
  },
  {
   "cell_type": "markdown",
   "id": "c681bab5-36fc-4334-ac84-ed8fca8c3e51",
   "metadata": {},
   "source": [
    "- ##### Special operators : <b>MemberShip Operators</b> : in and not in\n",
    "They are used to test whether a value or variable is found in a sequence (string, list, tuple, set and dictionary)."
   ]
  },
  {
   "cell_type": "code",
   "execution_count": 14,
   "id": "555126ff-24b3-429e-bde1-5edd3d751c35",
   "metadata": {},
   "outputs": [
    {
     "name": "stdout",
     "output_type": "stream",
     "text": [
      "True\n",
      "True\n"
     ]
    }
   ],
   "source": [
    "lst = [1, 2, 3, 4]\n",
    "print(1 in lst)       #check 1 is present in a given list or not\n",
    "\n",
    "#check 5 is present in a given list\n",
    "\n",
    "d = {1: \"a\", 2: \"b\"}\n",
    "print(1 in d)"
   ]
  },
  {
   "cell_type": "markdown",
   "id": "6232ca61-a2ed-4ead-993f-4cf1d19f812d",
   "metadata": {},
   "source": [
    "### If - Else Conditional Statement"
   ]
  },
  {
   "cell_type": "markdown",
   "id": "380098e0-c2e3-4a21-8652-6a38cdc26e41",
   "metadata": {},
   "source": [
    "If Statement|If - Else Body|If - elif - Else Body\n",
    "|- | - | - \n",
    "|![title](img/Python_if_statement.jpg) |  ![title](img/Python_if_else_statement.jpg) |  ![title](img/Python_if_elif_else_statement.jpg) "
   ]
  },
  {
   "cell_type": "code",
   "execution_count": 15,
   "id": "63fc2540-09bd-441b-9e49-96448088c3e8",
   "metadata": {},
   "outputs": [
    {
     "name": "stdout",
     "output_type": "stream",
     "text": [
      "IF EXAMPLE !!\n",
      "This will print always\n",
      "\n",
      "If Else\n",
      "Positive number\n",
      "\n",
      "IF - elif - Else\n",
      "Positive number\n",
      "\n",
      "Nested IF\n",
      "Positive number\n"
     ]
    }
   ],
   "source": [
    "print('IF EXAMPLE !!')\n",
    "num = 10\n",
    "\n",
    "# try 0, -1 and None\n",
    "if num < 2:\n",
    "    print(\"Number is positive\")\n",
    "print(\"This will print always\")      #This print statement always print\n",
    "\n",
    "print('\\nIf Else')\n",
    "if num > 0:\n",
    "    print(\"Positive number\")\n",
    "else:\n",
    "    print(\"Negative Number\")\n",
    "\n",
    "print('\\nIF - elif - Else')\n",
    "if num > 0:\n",
    "    print(\"Positive number\")\n",
    "elif num == 0:\n",
    "    print(\"ZERO\")\n",
    "else:\n",
    "    print(\"Negative Number\")\n",
    "\n",
    "print('\\nNested IF')\n",
    "if num >= 0:\n",
    "    if num == 0:\n",
    "        print(\"Zero\")\n",
    "    else:\n",
    "        print(\"Positive number\")\n",
    "else:\n",
    "    print(\"Negative Number\")"
   ]
  },
  {
   "cell_type": "markdown",
   "id": "8c58d4e7-9383-461d-8ec8-47e18f9bd94f",
   "metadata": {},
   "source": [
    "#### While Loop\n",
    "\n",
    "- The body of the loop is entered only if the test_expression evaluates to True.\n",
    "- After one iteration, the test expression is checked again.\n",
    "- This process continues until the test_expression evaluates to False.\n",
    "- The while loop in Python is used to iterate over a block of code as long as the test expression (condition) is true.\n",
    "  \n",
    "![title](img/whileloop.jpg)"
   ]
  },
  {
   "cell_type": "code",
   "execution_count": 19,
   "id": "42e74006-9976-4034-8d47-ad254e004f5a",
   "metadata": {},
   "outputs": [
    {
     "name": "stdout",
     "output_type": "stream",
     "text": [
      "Product is: 14400000\n",
      "\n",
      "\n",
      "While with Else condition\n",
      "1\n",
      "2\n",
      "3\n",
      "4\n",
      "5\n",
      "no item left in the list\n"
     ]
    }
   ],
   "source": [
    "#Find product of all numbers present in a list\n",
    "\n",
    "lst = [10, 20, 30, 40, 60]\n",
    "\n",
    "product = 1\n",
    "index = 0\n",
    "\n",
    "while index < len(lst):\n",
    "    product *= lst[index]\n",
    "    index += 1\n",
    "\n",
    "print(\"Product is: {}\".format(product))\n",
    "\n",
    "print('\\n\\nWhile with Else condition')\n",
    "\n",
    "numbers = [1, 2, 3,4,5]\n",
    "\n",
    "#iterating over the list\n",
    "index = 0\n",
    "while index < len(numbers):\n",
    "    print(numbers[index])\n",
    "    index += 1\n",
    "    \n",
    "else:\n",
    "    print(\"no item left in the list\")"
   ]
  },
  {
   "cell_type": "markdown",
   "id": "589fb2c8-8a2f-4ed4-a022-c27f260ef749",
   "metadata": {},
   "source": [
    "#### For Loop\n",
    "\n",
    "![title](img/forloop.jpg)"
   ]
  },
  {
   "cell_type": "code",
   "execution_count": 22,
   "id": "987d8949-fb06-49ad-a1d2-5013e55e80a0",
   "metadata": {},
   "outputs": [
    {
     "name": "stdout",
     "output_type": "stream",
     "text": [
      "<class 'int'>\n",
      "<class 'int'>\n",
      "<class 'int'>\n",
      "<class 'int'>\n",
      "<class 'int'>\n",
      "Product is: 12000000\n",
      "\n",
      "Range using in for loop\n",
      "0\n",
      "5\n",
      "10\n",
      "15\n",
      "\n",
      "For loop with Else!!\n",
      "1\n",
      "2\n",
      "3\n",
      "no item left in the list\n"
     ]
    }
   ],
   "source": [
    "#Find product of all numbers present in a list\n",
    "\n",
    "lst = [10, 20, 30, 40, 50]\n",
    "\n",
    "product = 1\n",
    "#iterating over the list\n",
    "for ele in lst:\n",
    "    print(type(ele))\n",
    "    product *= ele\n",
    "\n",
    "print(\"Product is: {}\".format(product))\n",
    "\n",
    "print('\\nRange using in for loop')\n",
    "#print range of numbers from 1 to 20 with step size of 2\n",
    "for i in range(0, 20, 5):\n",
    "    print(i)\n",
    "\n",
    "print('\\nFor loop with Else!!')\n",
    "numbers = [1, 2, 3]\n",
    "\n",
    "#iterating over the list\n",
    "for item in numbers:\n",
    "    print(item)\n",
    "else:\n",
    "    print(\"no item left in the list\")"
   ]
  },
  {
   "cell_type": "markdown",
   "id": "2098ab71-4b99-4e41-aa6f-26c078c99bd8",
   "metadata": {},
   "source": [
    "#### break and continue Statements\n",
    "break Statement|Continue Statement\n",
    "|- | - \n",
    "|![title](img/break.jpg) |  ![title](img/continue.jpg) \n",
    "|![title](img/break_works.jpg) |  ![title](img/continue_works.jpg) \n"
   ]
  },
  {
   "cell_type": "code",
   "execution_count": 23,
   "id": "f17c0184-6b3f-443b-a7d3-04e57f55e1a3",
   "metadata": {},
   "outputs": [
    {
     "name": "stdout",
     "output_type": "stream",
     "text": [
      "break Example !!\n",
      "1\n",
      "2\n",
      "3\n",
      "Outside of for loop\n",
      "\n",
      "\n",
      "continue Example !!\n",
      "1\n",
      "3\n",
      "5\n",
      "else-block\n"
     ]
    }
   ],
   "source": [
    "print('break Example !!')\n",
    "numbers = [1, 2, 3, 4]\n",
    "for num in numbers:          #iterating over list\n",
    "    if num == 4:\n",
    "        break\n",
    "    print(num)\n",
    "else:\n",
    "    print(\"in the else-block\")\n",
    "print(\"Outside of for loop\")\n",
    "\n",
    "print('\\n\\ncontinue Example !!')\n",
    "#print odd numbers present in a list\n",
    "numbers = [1, 2, 3, 4, 5]\n",
    "\n",
    "for num in numbers:\n",
    "    if num % 2 == 0:\n",
    "        continue\n",
    "    print(num)\n",
    "else:\n",
    "    print(\"else-block\")"
   ]
  },
  {
   "cell_type": "code",
   "execution_count": null,
   "id": "f6f83b66-7a66-43c3-abd8-b8305f820b43",
   "metadata": {},
   "outputs": [],
   "source": []
  }
 ],
 "metadata": {
  "kernelspec": {
   "display_name": "Python 3 (ipykernel)",
   "language": "python",
   "name": "python3"
  },
  "language_info": {
   "codemirror_mode": {
    "name": "ipython",
    "version": 3
   },
   "file_extension": ".py",
   "mimetype": "text/x-python",
   "name": "python",
   "nbconvert_exporter": "python",
   "pygments_lexer": "ipython3",
   "version": "3.8.18"
  }
 },
 "nbformat": 4,
 "nbformat_minor": 5
}
